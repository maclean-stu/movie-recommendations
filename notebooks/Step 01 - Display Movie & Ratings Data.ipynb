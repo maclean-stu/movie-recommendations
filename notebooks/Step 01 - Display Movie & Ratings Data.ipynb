{
    "metadata": {
        "language_info": {
            "name": "python", 
            "version": "2.7.11", 
            "nbconvert_exporter": "python", 
            "mimetype": "text/x-python", 
            "codemirror_mode": {
                "name": "ipython", 
                "version": 2
            }, 
            "pygments_lexer": "ipython2", 
            "file_extension": ".py"
        }, 
        "kernelspec": {
            "language": "python", 
            "name": "python2-spark20", 
            "display_name": "Python 2 with Spark 2.0"
        }
    }, 
    "nbformat": 4, 
    "cells": [
        {
            "metadata": {}, 
            "cell_type": "markdown", 
            "source": "## Display Movie data that has been loaded into the Coudant noSQL database\n\nExample uses Spark SQL with a Cloudant data source\n\nThis sample notebook is written in Python and expects the Python 2.7.5 runtime. Make sure the kernel is started and you are connect to it when executing this notebook."
        }, 
        {
            "metadata": {
                "collapsed": true
            }, 
            "execution_count": 1, 
            "cell_type": "code", 
            "source": "# Import Python stuff\nimport pprint\nfrom collections import Counter", 
            "outputs": []
        }, 
        {
            "metadata": {
                "collapsed": true
            }, 
            "execution_count": 2, 
            "cell_type": "code", 
            "source": "# Import PySpark stuff\nfrom pyspark.sql import *\nfrom pyspark.sql.functions import udf, asc, desc\nfrom pyspark import SparkContext, SparkConf\nfrom pyspark.sql.types import IntegerType", 
            "outputs": []
        }, 
        {
            "metadata": {}, 
            "cell_type": "markdown", 
            "source": "### 1. Work with the Spark Context\nA Spark Context handle sc is available with every notebook create in the Spark Service.  \nUse it to understand the Spark version used, the environment settings, and create a Spark SQL Context object off of it."
        }, 
        {
            "metadata": {
                "collapsed": false
            }, 
            "execution_count": 3, 
            "cell_type": "code", 
            "source": "sc.version", 
            "outputs": [
                {
                    "metadata": {}, 
                    "data": {
                        "text/plain": "u'2.0.2'"
                    }, 
                    "execution_count": 3, 
                    "output_type": "execute_result"
                }
            ]
        }, 
        {
            "metadata": {
                "collapsed": true
            }, 
            "execution_count": 4, 
            "cell_type": "code", 
            "source": "# sc is an existing SparkContext.\nsqlContext = SQLContext(sc)", 
            "outputs": []
        }, 
        {
            "metadata": {}, 
            "cell_type": "markdown", 
            "source": "### 2. Work with a Cloudant database\nA Dataframe object can be created directly from a Cloudant database. To configure the database as source, pass these options:  \n1 - package name that provides the classes (like CloudantDataSource) implemented in the connector to extend BaseRelation. For the Cloudant Spark connector this will be com.cloudant.spark  \n2 - cloudant.host parameter to pass the Cloudant account name  \n3 - cloudant.user parameter to pass the Cloudant user name  \n4 - cloudant.password parameter to pass the Cloudant account password  \n"
        }, 
        {
            "metadata": {
                "collapsed": true
            }, 
            "execution_count": 5, 
            "cell_type": "code", 
            "source": "# The code was removed by DSX for sharing.", 
            "outputs": []
        }, 
        {
            "metadata": {
                "collapsed": false
            }, 
            "execution_count": 7, 
            "cell_type": "code", 
            "source": "cloudantdata = sqlContext.read.format(\"com.cloudant.spark\").\\\noption(\"cloudant.host\",credentials['host']).\\\noption(\"cloudant.username\",credentials['username']).\\\noption(\"cloudant.password\",credentials['password']).\\\nload(\"moviedb\")", 
            "outputs": []
        }, 
        {
            "metadata": {
                "collapsed": false
            }, 
            "execution_count": 8, 
            "cell_type": "code", 
            "source": "# Use the dataframe 'show()' method to visualise the dataset\ncloudantdata.show()", 
            "outputs": [
                {
                    "name": "stdout", 
                    "output_type": "stream", 
                    "text": "+----+--------------------+--------------------+--------------------+\n| _id|                _rev|                name|                 url|\n+----+--------------------+--------------------+--------------------+\n|   1|1-d566f753a70cd18...|     Primeval (2007)|https://en.wikipe...|\n|  10|1-d502b37f75afe1f...|       The Ex (2007)|https://en.wikipe...|\n| 100|1-17c6a9a45b57b96...|Black Snake Moan ...|https://en.wikipe...|\n|1000|1-8480be4dfa2e4db...|The Next Three Da...|https://en.wikipe...|\n|1001|1-aa4a0bd04bd1bf5...|  Daybreakers (2010)|https://en.wikipe...|\n|1002|1-6f9ccb3bccbd159...|     Farewell (2010)|https://en.wikipe...|\n|1003|1-67202aaa2165a59...| The Mechanic (2011)|https://en.wikipe...|\n|1004|1-bd2df96adf8ae90...|Red Riding Hood (...|https://en.wikipe...|\n|1005|1-40655491d97792c...|Johnny English Re...|https://en.wikipe...|\n|1006|1-283cde9d5e00c9e...|      Super 8 (2011)|https://en.wikipe...|\n|1007|1-d414f4b85a21b84...|        50/50 (2011)|https://en.wikipe...|\n|1008|1-50a1fa6137630e1...|Mars Needs Moms (...|https://en.wikipe...|\n|1009|1-d7fe971fa0ddfa0...|Fullmetal Alchemi...|https://en.wikipe...|\n| 101|1-d26a3a8c32bc34c...|Pirates of the Ca...|https://en.wikipe...|\n|1010|1-8989c2f284afb4c...|          Bol (2011)|https://en.wikipe...|\n|1011|1-e9a706e76806e3b...|   The Sitter (2011)|https://en.wikipe...|\n|1012|1-8ac3bcc9612cf58...|    Zookeeper (2011)|https://en.wikipe...|\n|1013|1-753fb531f6a26f6...|      Win Win (2011)|https://en.wikipe...|\n|1014|1-04c7d0d6cbc1482...|Justin Bieber: Ne...|https://en.wikipe...|\n|1015|1-4296ada83408802...|      Beastly (2011)|https://en.wikipe...|\n+----+--------------------+--------------------+--------------------+\nonly showing top 20 rows\n\n"
                }
            ]
        }, 
        {
            "metadata": {}, 
            "cell_type": "markdown", 
            "source": "### 3. Work with a Dataframe\nAt this point all transformations and functions should behave as specified with Spark SQL. (http://spark.apache.org/sql/)  \n"
        }, 
        {
            "metadata": {
                "collapsed": false
            }, 
            "execution_count": 9, 
            "cell_type": "code", 
            "source": "cloudantdata.printSchema()", 
            "outputs": [
                {
                    "name": "stdout", 
                    "output_type": "stream", 
                    "text": "root\n |-- _id: string (nullable = true)\n |-- _rev: string (nullable = true)\n |-- name: string (nullable = true)\n |-- url: string (nullable = true)\n\n"
                }
            ]
        }, 
        {
            "metadata": {
                "collapsed": false
            }, 
            "execution_count": 10, 
            "cell_type": "code", 
            "source": "cloudantdata.count()", 
            "outputs": [
                {
                    "metadata": {}, 
                    "data": {
                        "text/plain": "2609"
                    }, 
                    "execution_count": 10, 
                    "output_type": "execute_result"
                }
            ]
        }, 
        {
            "metadata": {
                "collapsed": false
            }, 
            "execution_count": 11, 
            "cell_type": "code", 
            "source": "cloudantdata.select(\"name\", \"url\").show()", 
            "outputs": [
                {
                    "name": "stdout", 
                    "output_type": "stream", 
                    "text": "+--------------------+--------------------+\n|                name|                 url|\n+--------------------+--------------------+\n|     Primeval (2007)|https://en.wikipe...|\n|       The Ex (2007)|https://en.wikipe...|\n|Black Snake Moan ...|https://en.wikipe...|\n|The Next Three Da...|https://en.wikipe...|\n|  Daybreakers (2010)|https://en.wikipe...|\n|     Farewell (2010)|https://en.wikipe...|\n| The Mechanic (2011)|https://en.wikipe...|\n|Red Riding Hood (...|https://en.wikipe...|\n|Johnny English Re...|https://en.wikipe...|\n|      Super 8 (2011)|https://en.wikipe...|\n|        50/50 (2011)|https://en.wikipe...|\n|Mars Needs Moms (...|https://en.wikipe...|\n|Fullmetal Alchemi...|https://en.wikipe...|\n|Pirates of the Ca...|https://en.wikipe...|\n|          Bol (2011)|https://en.wikipe...|\n|   The Sitter (2011)|https://en.wikipe...|\n|    Zookeeper (2011)|https://en.wikipe...|\n|      Win Win (2011)|https://en.wikipe...|\n|Justin Bieber: Ne...|https://en.wikipe...|\n|      Beastly (2011)|https://en.wikipe...|\n+--------------------+--------------------+\nonly showing top 20 rows\n\n"
                }
            ]
        }, 
        {
            "metadata": {
                "collapsed": false
            }, 
            "execution_count": 12, 
            "cell_type": "code", 
            "source": "import pandas as pd\npandaDf = cloudantdata.select(\"name\").toPandas()\nprint(pandaDf, 10)", 
            "outputs": [
                {
                    "name": "stdout", 
                    "output_type": "stream", 
                    "text": "(                                                   name\n0                                       Primeval (2007)\n1                                         The Ex (2007)\n2                               Black Snake Moan (2007)\n3                            The Next Three Days (2010)\n4                                    Daybreakers (2010)\n5                                       Farewell (2010)\n6                                   The Mechanic (2011)\n7                                Red Riding Hood (2011)\n8                          Johnny English Reborn (2011)\n9                                        Super 8 (2011)\n10                                         50/50 (2011)\n11                               Mars Needs Moms (2011)\n12    Fullmetal Alchemist: The Sacred Star of Milos ...\n13      Pirates of the Caribbean: At World's End (2007)\n14                                           Bol (2011)\n15                                    The Sitter (2011)\n16                                     Zookeeper (2011)\n17                                       Win Win (2011)\n18                Justin Bieber: Never Say Never (2011)\n19                                       Beastly (2011)\n20                                     Anonymous (2011)\n21                               Gnomeo & Juliet (2011)\n22                                        Cars 2 (2011)\n23            A Very Harold & Kumar 3D Christmas (2011)\n24                                    Pathfinder (2007)\n25                                      Footnote (2011)\n26                Rise of the Planet of the Apes (2011)\n27                                 Your Highness (2011)\n28                                    The Divide (2011)\n29                                     Hall Pass (2011)\n...                                                 ...\n2579  Percy Jackson & the Olympians: The Lightning T...\n2580                           For Colored Girls (2010)\n2581                                     Killers (2010)\n2582                           Countdown to Zero (2010)\n2583                                Tamara Drewe (2010)\n2584                           Pyaar Impossible! (2010)\n2585                          Death at a Funeral (2010)\n2586                                      Easy A (2010)\n2587                        Daddy's Little Girls (2007)\n2588                                   You Again (2010)\n2589                                  Iron Man 2 (2010)\n2590                               Racing Dreams (2010)\n2591                                 Holy Roller (2010)\n2592                                 Happy Tears (2010)\n2593                                The Runaways (2010)\n2594                                 Just Wright (2010)\n2595    Cats & Dogs: The Revenge of Kitty Galore (2010)\n2596          The City of Your Final Destination (2010)\n2597                           The Spy Next Door (2010)\n2598                               The Orphanage (2007)\n2599                          The Social Network (2010)\n2600                          Stonewall Uprising (2010)\n2601                               Trash Humpers (2010)\n2602                                 The Infidel (2010)\n2603                                 Toy Story 3 (2010)\n2604                            The Lightkeepers (2010)\n2605                                    Creation (2010)\n2606                              The Nutcracker (2010)\n2607                                    The Town (2010)\n2608                          Behind the Burly Q (2010)\n\n[2609 rows x 1 columns], 10)\n"
                }
            ]
        }, 
        {
            "metadata": {
                "collapsed": true
            }, 
            "cell_type": "markdown", 
            "source": "## Display the \"randomly generated\" Ratings from Object Storage\n\nDrag and drop the ratings file onto the files rectangle. then use the DSX code insertion feature to create a hadoop configuration to allow Spark to access the object storage the ratings file resides on."
        }, 
        {
            "metadata": {
                "collapsed": true
            }, 
            "execution_count": 13, 
            "cell_type": "code", 
            "source": "# The code was removed by DSX for sharing.", 
            "outputs": []
        }, 
        {
            "metadata": {}, 
            "cell_type": "markdown", 
            "source": "Read the file from object storage and display the first 10 records. This is using pySpark.  \nNo column headings in the file. They are UserID::MovieID::Rating::Timestamp\n\nNote: change the code insertion 'path_n' variable above to 'ratingsFile'"
        }, 
        {
            "metadata": {
                "collapsed": false
            }, 
            "execution_count": 15, 
            "cell_type": "code", 
            "source": "ratingsRDD = sc.textFile(ratingsFile)\nratingsRDD.take(10)", 
            "outputs": [
                {
                    "metadata": {}, 
                    "data": {
                        "text/plain": "[u'1::832::2::N/A',\n u'1::1781::1::N/A',\n u'1::1124::1::N/A',\n u'1::2297::1::N/A',\n u'1::744::1::N/A',\n u'1::1141::2::N/A',\n u'1::1858::2::N/A',\n u'1::1844::1::N/A',\n u'1::1883::1::N/A',\n u'1::2029::1::N/A']"
                    }, 
                    "execution_count": 15, 
                    "output_type": "execute_result"
                }
            ]
        }, 
        {
            "metadata": {}, 
            "cell_type": "markdown", 
            "source": "Now we do the same but this time with straight python code."
        }, 
        {
            "metadata": {
                "collapsed": true
            }, 
            "execution_count": 16, 
            "cell_type": "code", 
            "source": "# The code was removed by DSX for sharing.", 
            "outputs": []
        }, 
        {
            "metadata": {}, 
            "cell_type": "markdown", 
            "source": "Remember to update the inserted code to use the 'dataFile' return field "
        }, 
        {
            "metadata": {
                "collapsed": false
            }, 
            "execution_count": 17, 
            "cell_type": "code", 
            "source": "import pandas as pd\n\ndataRDD = pd.read_csv(dataFile)\ndataRDD.head()", 
            "outputs": [
                {
                    "metadata": {}, 
                    "data": {
                        "text/html": "<div>\n<table border=\"1\" class=\"dataframe\">\n  <thead>\n    <tr style=\"text-align: right;\">\n      <th></th>\n      <th>1::832::2::N/A</th>\n    </tr>\n  </thead>\n  <tbody>\n    <tr>\n      <th>0</th>\n      <td>1::1781::1::N/A</td>\n    </tr>\n    <tr>\n      <th>1</th>\n      <td>1::1124::1::N/A</td>\n    </tr>\n    <tr>\n      <th>2</th>\n      <td>1::2297::1::N/A</td>\n    </tr>\n    <tr>\n      <th>3</th>\n      <td>1::744::1::N/A</td>\n    </tr>\n    <tr>\n      <th>4</th>\n      <td>1::1141::2::N/A</td>\n    </tr>\n  </tbody>\n</table>\n</div>", 
                        "text/plain": "    1::832::2::N/A\n0  1::1781::1::N/A\n1  1::1124::1::N/A\n2  1::2297::1::N/A\n3   1::744::1::N/A\n4  1::1141::2::N/A"
                    }, 
                    "execution_count": 17, 
                    "output_type": "execute_result"
                }
            ]
        }, 
        {
            "metadata": {
                "collapsed": false
            }, 
            "execution_count": 18, 
            "cell_type": "code", 
            "source": "dataRDD.count()", 
            "outputs": [
                {
                    "metadata": {}, 
                    "data": {
                        "text/plain": "1::832::2::N/A    484559\ndtype: int64"
                    }, 
                    "execution_count": 18, 
                    "output_type": "execute_result"
                }
            ]
        }, 
        {
            "metadata": {
                "collapsed": true
            }, 
            "execution_count": null, 
            "cell_type": "code", 
            "source": "", 
            "outputs": []
        }
    ], 
    "nbformat_minor": 0
}