{
    "metadata": {
        "language_info": {
            "name": "python", 
            "version": "2.7.11", 
            "nbconvert_exporter": "python", 
            "mimetype": "text/x-python", 
            "codemirror_mode": {
                "name": "ipython", 
                "version": 2
            }, 
            "pygments_lexer": "ipython2", 
            "file_extension": ".py"
        }, 
        "kernelspec": {
            "language": "python", 
            "name": "python2-spark20", 
            "display_name": "Python 2 with Spark 2.0"
        }
    }, 
    "nbformat": 4, 
    "cells": [
        {
            "metadata": {}, 
            "cell_type": "markdown", 
            "source": "## Display Movie data that has been loaded into the Coudant noSQL database\n\nExample uses Spark SQL with a Cloudant data source\n\nThis sample notebook is written in Python and expects the Python 2.7.5 runtime. Make sure the kernel is started and you are connect to it when executing this notebook."
        }, 
        {
            "metadata": {
                "collapsed": true
            }, 
            "execution_count": null, 
            "cell_type": "code", 
            "source": "# Import Python stuff\nimport pprint\nfrom collections import Counter", 
            "outputs": []
        }, 
        {
            "metadata": {
                "collapsed": true
            }, 
            "execution_count": null, 
            "cell_type": "code", 
            "source": "# Import PySpark stuff\nfrom pyspark.sql import *\nfrom pyspark.sql.functions import udf, asc, desc\nfrom pyspark import SparkContext, SparkConf\nfrom pyspark.sql.types import IntegerType", 
            "outputs": []
        }, 
        {
            "metadata": {}, 
            "cell_type": "markdown", 
            "source": "### 1. Work with the Spark Context\nA Spark Context handle sc is available with every notebook create in the Spark Service.  \nUse it to understand the Spark version used, the environment settings, and create a Spark SQL Context object off of it."
        }, 
        {
            "metadata": {
                "collapsed": false
            }, 
            "execution_count": null, 
            "cell_type": "code", 
            "source": "sc.version", 
            "outputs": []
        }, 
        {
            "metadata": {
                "collapsed": true
            }, 
            "execution_count": null, 
            "cell_type": "code", 
            "source": "# sc is an existing SparkContext.\nsqlContext = SQLContext(sc)", 
            "outputs": []
        }, 
        {
            "metadata": {}, 
            "cell_type": "markdown", 
            "source": "### 2. Work with a Cloudant database\nA Dataframe object can be created directly from a Cloudant database. To configure the database as source, pass these options:  \n1 - package name that provides the classes (like CloudantDataSource) implemented in the connector to extend BaseRelation. For the Cloudant Spark connector this will be com.cloudant.spark  \n2 - cloudant.host parameter to pass the Cloudant account name  \n3 - cloudant.user parameter to pass the Cloudant user name  \n4 - cloudant.password parameter to pass the Cloudant account password  \n"
        }, 
        {
            "metadata": {
                "collapsed": true
            }, 
            "execution_count": null, 
            "cell_type": "code", 
            "source": "# The code was removed by DSX for sharing.", 
            "outputs": []
        }, 
        {
            "metadata": {
                "collapsed": false
            }, 
            "execution_count": null, 
            "cell_type": "code", 
            "source": "cloudantdata = sqlContext.read.format(\"com.cloudant.spark\").\\\noption(\"cloudant.host\",credentials['host']).\\\noption(\"cloudant.username\",credentials['username']).\\\noption(\"cloudant.password\",credentials['password']).\\\nload(\"moviedb\")", 
            "outputs": []
        }, 
        {
            "metadata": {
                "collapsed": false
            }, 
            "execution_count": null, 
            "cell_type": "code", 
            "source": "# Use the dataframe 'show()' method to visualise the dataset\ncloudantdata.show()", 
            "outputs": []
        }, 
        {
            "metadata": {}, 
            "cell_type": "markdown", 
            "source": "### 3. Work with a Dataframe\nAt this point all transformations and functions should behave as specified with Spark SQL. (http://spark.apache.org/sql/)  \n"
        }, 
        {
            "metadata": {
                "collapsed": false
            }, 
            "execution_count": null, 
            "cell_type": "code", 
            "source": "cloudantdata.printSchema()", 
            "outputs": []
        }, 
        {
            "metadata": {
                "collapsed": false
            }, 
            "execution_count": null, 
            "cell_type": "code", 
            "source": "cloudantdata.count()", 
            "outputs": []
        }, 
        {
            "metadata": {
                "collapsed": false
            }, 
            "execution_count": null, 
            "cell_type": "code", 
            "source": "cloudantdata.select(\"name\", \"url\").show()", 
            "outputs": []
        }, 
        {
            "metadata": {
                "collapsed": false
            }, 
            "execution_count": null, 
            "cell_type": "code", 
            "source": "import pandas as pd\npandaDf = cloudantdata.select(\"name\").toPandas()\nprint(pandaDf, 10)", 
            "outputs": []
        }, 
        {
            "metadata": {
                "collapsed": true
            }, 
            "cell_type": "markdown", 
            "source": "## Display the \"randomly generated\" Ratings from Object Storage\n\nDrag and drop the ratings file onto the files rectangle. then use the DSX code insertion feature to create a hadoop configuration to allow Spark to access the object storage the ratings file resides on."
        }, 
        {
            "metadata": {
                "collapsed": true
            }, 
            "execution_count": null, 
            "cell_type": "code", 
            "source": "# The code was removed by DSX for sharing.", 
            "outputs": []
        }, 
        {
            "metadata": {}, 
            "cell_type": "markdown", 
            "source": "Read the file from object storage and display the first 10 records. This is using pySpark.  \nNo column headings in the file. They are UserID::MovieID::Rating::Timestamp\n\nNote: change the code insertion 'path_n' variable above to 'ratingsFile'"
        }, 
        {
            "metadata": {
                "collapsed": false
            }, 
            "execution_count": null, 
            "cell_type": "code", 
            "source": "ratingsRDD = sc.textFile(ratingsFile)\n\nratingsRDD.take(10)", 
            "outputs": []
        }, 
        {
            "metadata": {
                "collapsed": false
            }, 
            "execution_count": null, 
            "cell_type": "code", 
            "source": "ratingsRDD.count()", 
            "outputs": []
        }, 
        {
            "metadata": {}, 
            "cell_type": "markdown", 
            "source": "Now we do the same but this time with straight python code."
        }, 
        {
            "metadata": {
                "collapsed": true
            }, 
            "execution_count": null, 
            "cell_type": "code", 
            "source": "# The code was removed by DSX for sharing.", 
            "outputs": []
        }, 
        {
            "metadata": {}, 
            "cell_type": "markdown", 
            "source": "Remember to update the inserted code to use the 'dataFile' return field "
        }, 
        {
            "metadata": {
                "collapsed": false
            }, 
            "execution_count": null, 
            "cell_type": "code", 
            "source": "import pandas as pd\n\ndataRDD = pd.read_csv(dataFile)\ndataRDD.head()", 
            "outputs": []
        }, 
        {
            "metadata": {
                "collapsed": false
            }, 
            "execution_count": null, 
            "cell_type": "code", 
            "source": "dataRDD.count()", 
            "outputs": []
        }, 
        {
            "metadata": {
                "collapsed": true
            }, 
            "execution_count": null, 
            "cell_type": "code", 
            "source": "", 
            "outputs": []
        }
    ], 
    "nbformat_minor": 0
}